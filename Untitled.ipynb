{
 "cells": [
  {
   "cell_type": "code",
   "execution_count": 6,
   "metadata": {},
   "outputs": [],
   "source": [
    "import numpy as np\n",
    "\n",
    "Pm=np.array((4,41,55,36,21,43,16,28,56)).reshape(3,3)/100\n",
    "Pm=np.array((26,37,37,9,21,70,23,28,49)).reshape(3,3)/100\n",
    "Pm=np.array((38,37,25,49,6,45,16,22,62)).reshape(3,3)/100\n",
    "Pm=np.array((15,13,72,62,2,36,10,63,27)).reshape(3,3)/100\n"
   ]
  },
  {
   "cell_type": "code",
   "execution_count": 5,
   "metadata": {},
   "outputs": [
    {
     "data": {
      "text/plain": [
       "array([[0.04, 0.41, 0.55],\n",
       "       [0.36, 0.21, 0.43],\n",
       "       [0.16, 0.28, 0.56]])"
      ]
     },
     "execution_count": 5,
     "metadata": {},
     "output_type": "execute_result"
    }
   ],
   "source": [
    "Pm\n"
   ]
  },
  {
   "cell_type": "code",
   "execution_count": null,
   "metadata": {},
   "outputs": [],
   "source": []
  }
 ],
 "metadata": {
  "kernelspec": {
   "display_name": "Python 3",
   "language": "python",
   "name": "python3"
  },
  "language_info": {
   "codemirror_mode": {
    "name": "ipython",
    "version": 3
   },
   "file_extension": ".py",
   "mimetype": "text/x-python",
   "name": "python",
   "nbconvert_exporter": "python",
   "pygments_lexer": "ipython3",
   "version": "3.7.1"
  }
 },
 "nbformat": 4,
 "nbformat_minor": 2
}
